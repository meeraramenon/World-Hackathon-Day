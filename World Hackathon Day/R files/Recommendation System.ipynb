{
 "cells": [
  {
   "cell_type": "code",
   "execution_count": 1,
   "metadata": {
    "scrolled": true
   },
   "outputs": [
    {
     "name": "stderr",
     "output_type": "stream",
     "text": [
      "Installing package into 'D:/Lenovo/Documents/R/win-library/3.6'\n",
      "(as 'lib' is unspecified)\n"
     ]
    },
    {
     "name": "stdout",
     "output_type": "stream",
     "text": [
      "package 'recommenderlab' successfully unpacked and MD5 sums checked\n",
      "\n",
      "The downloaded binary packages are in\n",
      "\tC:\\Users\\Lenovo\\AppData\\Local\\Temp\\RtmpiMgZkW\\downloaded_packages\n"
     ]
    },
    {
     "name": "stderr",
     "output_type": "stream",
     "text": [
      "Warning message:\n",
      "\"package 'recommenderlab' was built under R version 3.6.3\"Loading required package: Matrix\n",
      "Loading required package: arules\n",
      "Warning message:\n",
      "\"package 'arules' was built under R version 3.6.3\"\n",
      "Attaching package: 'arules'\n",
      "\n",
      "The following objects are masked from 'package:base':\n",
      "\n",
      "    abbreviate, write\n",
      "\n",
      "Loading required package: proxy\n",
      "Warning message:\n",
      "\"package 'proxy' was built under R version 3.6.3\"\n",
      "Attaching package: 'proxy'\n",
      "\n",
      "The following object is masked from 'package:Matrix':\n",
      "\n",
      "    as.matrix\n",
      "\n",
      "The following objects are masked from 'package:stats':\n",
      "\n",
      "    as.dist, dist\n",
      "\n",
      "The following object is masked from 'package:base':\n",
      "\n",
      "    as.matrix\n",
      "\n",
      "Loading required package: registry\n",
      "Registered S3 methods overwritten by 'registry':\n",
      "  method               from \n",
      "  print.registry_field proxy\n",
      "  print.registry_entry proxy\n"
     ]
    }
   ],
   "source": [
    "#install the recommenderlab package if you dont have\n",
    "install.packages(\"recommenderlab\")\n",
    "\n",
    "library(\"recommenderlab\")\t \t "
   ]
  },
  {
   "cell_type": "code",
   "execution_count": 2,
   "metadata": {},
   "outputs": [
    {
     "data": {
      "text/html": [
       "<table>\n",
       "<thead><tr><th scope=col>Students</th><th scope=col>Model.Making</th><th scope=col>Planet.Jumble</th><th scope=col>Solar.System.Bingo</th><th scope=col>Planetary.Debate</th><th scope=col>Bottle.Rocket</th><th scope=col>Make.a.telescope</th><th scope=col>Balloon.Solar.system</th><th scope=col>Solar.System.Quiz</th><th scope=col>Solar.system.word.Search</th><th scope=col>Make.a.globe.using.egg</th></tr></thead>\n",
       "<tbody>\n",
       "\t<tr><td>Mellisa Gans      </td><td> 1                </td><td>NA                </td><td>NA                </td><td> 1                </td><td>NA                </td><td>NA                </td><td> 1                </td><td>NA                </td><td>NA                </td><td>NA                </td></tr>\n",
       "\t<tr><td>Verdell Maser     </td><td>NA                </td><td> 1                </td><td>NA                </td><td>NA                </td><td>NA                </td><td>NA                </td><td>NA                </td><td>NA                </td><td>NA                </td><td>NA                </td></tr>\n",
       "\t<tr><td>Johnette Ayon     </td><td>NA                </td><td>NA                </td><td> 1                </td><td>NA                </td><td>NA                </td><td> 1                </td><td>NA                </td><td> 1                </td><td>NA                </td><td>NA                </td></tr>\n",
       "\t<tr><td>Liberty Schmit    </td><td> 1                </td><td>NA                </td><td>NA                </td><td>NA                </td><td>NA                </td><td>NA                </td><td>NA                </td><td>NA                </td><td>NA                </td><td>NA                </td></tr>\n",
       "\t<tr><td>Candace Delozier  </td><td>NA                </td><td>NA                </td><td>NA                </td><td> 1                </td><td>NA                </td><td> 1                </td><td>NA                </td><td>NA                </td><td>NA                </td><td> 1                </td></tr>\n",
       "\t<tr><td>Syreeta Sherrod   </td><td>NA                </td><td> 1                </td><td>NA                </td><td>NA                </td><td> 1                </td><td>NA                </td><td>NA                </td><td>NA                </td><td>NA                </td><td>NA                </td></tr>\n",
       "</tbody>\n",
       "</table>\n"
      ],
      "text/latex": [
       "\\begin{tabular}{r|lllllllllll}\n",
       " Students & Model.Making & Planet.Jumble & Solar.System.Bingo & Planetary.Debate & Bottle.Rocket & Make.a.telescope & Balloon.Solar.system & Solar.System.Quiz & Solar.system.word.Search & Make.a.globe.using.egg\\\\\n",
       "\\hline\n",
       "\t Mellisa Gans       &  1                 & NA                 & NA                 &  1                 & NA                 & NA                 &  1                 & NA                 & NA                 & NA                \\\\\n",
       "\t Verdell Maser      & NA                 &  1                 & NA                 & NA                 & NA                 & NA                 & NA                 & NA                 & NA                 & NA                \\\\\n",
       "\t Johnette Ayon      & NA                 & NA                 &  1                 & NA                 & NA                 &  1                 & NA                 &  1                 & NA                 & NA                \\\\\n",
       "\t Liberty Schmit     &  1                 & NA                 & NA                 & NA                 & NA                 & NA                 & NA                 & NA                 & NA                 & NA                \\\\\n",
       "\t Candace Delozier   & NA                 & NA                 & NA                 &  1                 & NA                 &  1                 & NA                 & NA                 & NA                 &  1                \\\\\n",
       "\t Syreeta Sherrod    & NA                 &  1                 & NA                 & NA                 &  1                 & NA                 & NA                 & NA                 & NA                 & NA                \\\\\n",
       "\\end{tabular}\n"
      ],
      "text/markdown": [
       "\n",
       "| Students | Model.Making | Planet.Jumble | Solar.System.Bingo | Planetary.Debate | Bottle.Rocket | Make.a.telescope | Balloon.Solar.system | Solar.System.Quiz | Solar.system.word.Search | Make.a.globe.using.egg |\n",
       "|---|---|---|---|---|---|---|---|---|---|---|\n",
       "| Mellisa Gans       |  1                 | NA                 | NA                 |  1                 | NA                 | NA                 |  1                 | NA                 | NA                 | NA                 |\n",
       "| Verdell Maser      | NA                 |  1                 | NA                 | NA                 | NA                 | NA                 | NA                 | NA                 | NA                 | NA                 |\n",
       "| Johnette Ayon      | NA                 | NA                 |  1                 | NA                 | NA                 |  1                 | NA                 |  1                 | NA                 | NA                 |\n",
       "| Liberty Schmit     |  1                 | NA                 | NA                 | NA                 | NA                 | NA                 | NA                 | NA                 | NA                 | NA                 |\n",
       "| Candace Delozier   | NA                 | NA                 | NA                 |  1                 | NA                 |  1                 | NA                 | NA                 | NA                 |  1                 |\n",
       "| Syreeta Sherrod    | NA                 |  1                 | NA                 | NA                 |  1                 | NA                 | NA                 | NA                 | NA                 | NA                 |\n",
       "\n"
      ],
      "text/plain": [
       "  Students           Model.Making Planet.Jumble Solar.System.Bingo\n",
       "1 Mellisa Gans        1           NA            NA                \n",
       "2 Verdell Maser      NA            1            NA                \n",
       "3 Johnette Ayon      NA           NA             1                \n",
       "4 Liberty Schmit      1           NA            NA                \n",
       "5 Candace Delozier   NA           NA            NA                \n",
       "6 Syreeta Sherrod    NA            1            NA                \n",
       "  Planetary.Debate Bottle.Rocket Make.a.telescope Balloon.Solar.system\n",
       "1  1               NA            NA                1                  \n",
       "2 NA               NA            NA               NA                  \n",
       "3 NA               NA             1               NA                  \n",
       "4 NA               NA            NA               NA                  \n",
       "5  1               NA             1               NA                  \n",
       "6 NA                1            NA               NA                  \n",
       "  Solar.System.Quiz Solar.system.word.Search Make.a.globe.using.egg\n",
       "1 NA                NA                       NA                    \n",
       "2 NA                NA                       NA                    \n",
       "3  1                NA                       NA                    \n",
       "4 NA                NA                       NA                    \n",
       "5 NA                NA                        1                    \n",
       "6 NA                NA                       NA                    "
      ]
     },
     "metadata": {},
     "output_type": "display_data"
    }
   ],
   "source": [
    "# Loading to pre-computed affinity data\t-data about student and its preferred activty  as 1\n",
    "#please import the correct csv file present in the data folder\n",
    "affinity.data<-read.csv(\"Data/Recommendation system for activities.csv\")\n",
    "#to see few records\n",
    "head(affinity.data)"
   ]
  },
  {
   "cell_type": "code",
   "execution_count": 3,
   "metadata": {},
   "outputs": [],
   "source": [
    "#filing the unpreferred data that is NA as 0\n",
    "affinity.data[is.na(affinity.data)]=0"
   ]
  },
  {
   "cell_type": "code",
   "execution_count": 4,
   "metadata": {},
   "outputs": [
    {
     "name": "stdout",
     "output_type": "stream",
     "text": [
      "'data.frame':\t50 obs. of  11 variables:\n",
      " $ Students                : Factor w/ 50 levels \"Angelo Micheals  \",..: 32 48 19 24 5 42 2 3 27 38 ...\n",
      " $ Model.Making            : num  1 0 0 1 0 0 1 1 0 1 ...\n",
      " $ Planet.Jumble           : num  0 1 0 0 0 1 0 0 1 0 ...\n",
      " $ Solar.System.Bingo      : num  0 0 1 0 0 0 0 0 0 1 ...\n",
      " $ Planetary.Debate        : num  1 0 0 0 1 0 0 1 0 0 ...\n",
      " $ Bottle.Rocket           : num  0 0 0 0 0 1 0 0 0 1 ...\n",
      " $ Make.a.telescope        : num  0 0 1 0 1 0 0 0 0 1 ...\n",
      " $ Balloon.Solar.system    : num  1 0 0 0 0 0 0 0 1 0 ...\n",
      " $ Solar.System.Quiz       : num  0 0 1 0 0 0 1 0 0 0 ...\n",
      " $ Solar.system.word.Search: num  0 0 0 0 0 0 0 1 0 0 ...\n",
      " $ Make.a.globe.using.egg  : num  0 0 0 0 1 0 1 0 1 0 ...\n"
     ]
    }
   ],
   "source": [
    "#to see the structure of data\n",
    "str(affinity.data)"
   ]
  },
  {
   "cell_type": "code",
   "execution_count": 5,
   "metadata": {},
   "outputs": [],
   "source": [
    "#Converting the data into factor as recommenderlab only allows binaryRatingMatrix\n",
    "\n",
    "affinity.data$Model.Making<-as.factor(affinity.data$Model.Making)\n",
    "affinity.data$Planet.Jumble<-as.factor(affinity.data$Planet.Jumble)\n",
    "affinity.data$Solar.System.Bingo<-as.factor(affinity.data$Solar.System.Bingo)\n",
    "affinity.data$Planetary.Debate<-as.factor(affinity.data$Planetary.Debate)\n",
    "affinity.data$Make.a.telescope<-as.factor(affinity.data$Make.a.telescope)\n",
    "affinity.data$Bottle.Rocket<-as.factor(affinity.data$Bottle.Rocket)\n",
    "affinity.data$Balloon.Solar.system<-as.factor(affinity.data$Balloon.Solar.system)\n",
    "affinity.data$Solar.System.Quiz<-as.factor(affinity.data$Solar.System.Quiz)\n",
    "affinity.data$Solar.system.word.Search<-as.factor(affinity.data$Solar.system.word.Search)\n",
    "affinity.data$Make.a.globe.using.egg<-as.factor(affinity.data$Make.a.globe.using.egg)"
   ]
  },
  {
   "cell_type": "code",
   "execution_count": 6,
   "metadata": {},
   "outputs": [],
   "source": [
    "# after the data is converted into factor it transferred as transactions and then converted into binaryRatingMatrix\n",
    "affinity.data1 <- as(affinity.data, \"transactions\") \n",
    "\n",
    "affinity.data <- as(affinity.data1, \"binaryRatingMatrix\")"
   ]
  },
  {
   "cell_type": "code",
   "execution_count": 7,
   "metadata": {},
   "outputs": [
    {
     "data": {
      "text/plain": [
       "31 x 70 rating matrix of class 'binaryRatingMatrix' with 341 ratings."
      ]
     },
     "metadata": {},
     "output_type": "display_data"
    },
    {
     "data": {
      "text/plain": [
       "19 x 70 rating matrix of class 'binaryRatingMatrix' with 209 ratings."
      ]
     },
     "metadata": {},
     "output_type": "display_data"
    }
   ],
   "source": [
    "#Splitting the test and train dataset into 70:30 ratio\n",
    "split_movie<-sample(x=c(T,F),size=nrow(affinity.data),replace = T,prob = c(0.7,0.3))\n",
    "affinity.data[split_movie,]->recc_train\n",
    "affinity.data[!split_movie,]->recc_test\n",
    "recc_train\n",
    "recc_test"
   ]
  },
  {
   "cell_type": "code",
   "execution_count": 8,
   "metadata": {},
   "outputs": [
    {
     "data": {
      "text/plain": [
       "Recommender of type 'UBCF' for 'binaryRatingMatrix' \n",
       "learned using 31 users."
      ]
     },
     "metadata": {},
     "output_type": "display_data"
    }
   ],
   "source": [
    "#Building a recommendation model on test data using USER BASED COLLABORATIVE FILTERING\n",
    "Recommender(data=recc_train,method=\"UBCF\")->ubcf_model\n",
    "ubcf_model\n"
   ]
  },
  {
   "cell_type": "code",
   "execution_count": 9,
   "metadata": {},
   "outputs": [
    {
     "data": {
      "text/plain": [
       "Recommendations as 'topNList' with n = 2 for 19 users. "
      ]
     },
     "metadata": {},
     "output_type": "display_data"
    }
   ],
   "source": [
    "#Predicting the 2 activities for the test data\n",
    "predict(object = ubcf_model,newdata=recc_test,n=2)->recc_predicted_ubcf\n",
    "recc_predicted_ubcf\n"
   ]
  },
  {
   "cell_type": "code",
   "execution_count": 10,
   "metadata": {},
   "outputs": [
    {
     "data": {
      "text/html": [
       "<ol class=list-inline>\n",
       "\t<li>67</li>\n",
       "\t<li>57</li>\n",
       "</ol>\n"
      ],
      "text/latex": [
       "\\begin{enumerate*}\n",
       "\\item 67\n",
       "\\item 57\n",
       "\\end{enumerate*}\n"
      ],
      "text/markdown": [
       "1. 67\n",
       "2. 57\n",
       "\n",
       "\n"
      ],
      "text/plain": [
       "[1] 67 57"
      ]
     },
     "metadata": {},
     "output_type": "display_data"
    },
    {
     "data": {
      "text/html": [
       "<ol class=list-inline>\n",
       "\t<li>'Solar.system.word.Search=0'</li>\n",
       "\t<li>'Planetary.Debate=0'</li>\n",
       "</ol>\n"
      ],
      "text/latex": [
       "\\begin{enumerate*}\n",
       "\\item 'Solar.system.word.Search=0'\n",
       "\\item 'Planetary.Debate=0'\n",
       "\\end{enumerate*}\n"
      ],
      "text/markdown": [
       "1. 'Solar.system.word.Search=0'\n",
       "2. 'Planetary.Debate=0'\n",
       "\n",
       "\n"
      ],
      "text/plain": [
       "[1] \"Solar.system.word.Search=0\" \"Planetary.Debate=0\"        "
      ]
     },
     "metadata": {},
     "output_type": "display_data"
    }
   ],
   "source": [
    "\n",
    "#Recommend activities for user-3\n",
    "recc_predicted_ubcf@items[[3]]->user3_movie_numbers\n",
    "user3_movie_numbers\n",
    "\n",
    "recc_predicted_ubcf@itemLabels[user3_movie_numbers]"
   ]
  },
  {
   "cell_type": "code",
   "execution_count": 13,
   "metadata": {},
   "outputs": [
    {
     "data": {
      "text/html": [
       "<ol class=list-inline>\n",
       "\t<li>63</li>\n",
       "\t<li>55</li>\n",
       "</ol>\n"
      ],
      "text/latex": [
       "\\begin{enumerate*}\n",
       "\\item 63\n",
       "\\item 55\n",
       "\\end{enumerate*}\n"
      ],
      "text/markdown": [
       "1. 63\n",
       "2. 55\n",
       "\n",
       "\n"
      ],
      "text/plain": [
       "[1] 63 55"
      ]
     },
     "metadata": {},
     "output_type": "display_data"
    },
    {
     "data": {
      "text/html": [
       "<ol class=list-inline>\n",
       "\t<li>'Balloon.Solar.system=0'</li>\n",
       "\t<li>'Solar.System.Bingo=0'</li>\n",
       "</ol>\n"
      ],
      "text/latex": [
       "\\begin{enumerate*}\n",
       "\\item 'Balloon.Solar.system=0'\n",
       "\\item 'Solar.System.Bingo=0'\n",
       "\\end{enumerate*}\n"
      ],
      "text/markdown": [
       "1. 'Balloon.Solar.system=0'\n",
       "2. 'Solar.System.Bingo=0'\n",
       "\n",
       "\n"
      ],
      "text/plain": [
       "[1] \"Balloon.Solar.system=0\" \"Solar.System.Bingo=0\"  "
      ]
     },
     "metadata": {},
     "output_type": "display_data"
    }
   ],
   "source": [
    "#Recommend activities for user-5\n",
    "recc_predicted_ubcf@items[[5]]->user5_movie_numbers\n",
    "user5_movie_numbers\n",
    "\n",
    "recc_predicted_ubcf@itemLabels[user5_movie_numbers]\n",
    "\n"
   ]
  },
  {
   "cell_type": "code",
   "execution_count": 12,
   "metadata": {},
   "outputs": [
    {
     "data": {
      "text/html": [
       "<ol class=list-inline>\n",
       "\t<li>61</li>\n",
       "\t<li>55</li>\n",
       "</ol>\n"
      ],
      "text/latex": [
       "\\begin{enumerate*}\n",
       "\\item 61\n",
       "\\item 55\n",
       "\\end{enumerate*}\n"
      ],
      "text/markdown": [
       "1. 61\n",
       "2. 55\n",
       "\n",
       "\n"
      ],
      "text/plain": [
       "[1] 61 55"
      ]
     },
     "metadata": {},
     "output_type": "display_data"
    },
    {
     "data": {
      "text/html": [
       "<ol class=list-inline>\n",
       "\t<li>'Make.a.telescope=0'</li>\n",
       "\t<li>'Solar.System.Bingo=0'</li>\n",
       "</ol>\n"
      ],
      "text/latex": [
       "\\begin{enumerate*}\n",
       "\\item 'Make.a.telescope=0'\n",
       "\\item 'Solar.System.Bingo=0'\n",
       "\\end{enumerate*}\n"
      ],
      "text/markdown": [
       "1. 'Make.a.telescope=0'\n",
       "2. 'Solar.System.Bingo=0'\n",
       "\n",
       "\n"
      ],
      "text/plain": [
       "[1] \"Make.a.telescope=0\"   \"Solar.System.Bingo=0\""
      ]
     },
     "metadata": {},
     "output_type": "display_data"
    }
   ],
   "source": [
    "#Recommend activities for user-10\n",
    "recc_predicted_ubcf@items[[10]]->user10_movie_numbers\n",
    "user10_movie_numbers\n",
    "\n",
    "recc_predicted_ubcf@itemLabels[user10_movie_numbers]"
   ]
  },
  {
   "cell_type": "code",
   "execution_count": null,
   "metadata": {},
   "outputs": [],
   "source": []
  }
 ],
 "metadata": {
  "kernelspec": {
   "display_name": "R",
   "language": "R",
   "name": "ir"
  },
  "language_info": {
   "codemirror_mode": "r",
   "file_extension": ".r",
   "mimetype": "text/x-r-source",
   "name": "R",
   "pygments_lexer": "r",
   "version": "3.6.1"
  }
 },
 "nbformat": 4,
 "nbformat_minor": 2
}
